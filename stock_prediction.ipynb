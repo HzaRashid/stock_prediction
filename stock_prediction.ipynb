{
 "cells": [
  {
   "cell_type": "code",
   "execution_count": 1,
   "id": "f7e8e648",
   "metadata": {},
   "outputs": [],
   "source": [
    "import numpy as np\n",
    "import matplotlib.pyplot as plt\n",
    "from keras.models import Sequential\n",
    "from keras.layers import Dense, Dropout, LSTM\n",
    "from sklearn.preprocessing import MinMaxScaler\n",
    "import pandas as pd\n",
    "import pandas_datareader as web"
   ]
  },
  {
   "cell_type": "markdown",
   "id": "3cf2e734",
   "metadata": {},
   "source": [
    "Get data of company using the specified API from 'start' to 'end' dates"
   ]
  },
  {
   "cell_type": "code",
   "execution_count": 2,
   "id": "a07f4e9b",
   "metadata": {},
   "outputs": [],
   "source": [
    "start_date, end_date = \"2000-01-01\", \"2021-12-31\"\n",
    "df = web.DataReader('BTC-USD', 'yahoo', start=start_date, end=end_date)"
   ]
  },
  {
   "cell_type": "code",
   "execution_count": 3,
   "id": "8002d4e5",
   "metadata": {
    "scrolled": true
   },
   "outputs": [],
   "source": [
    "# goal is to predict closing prices\n",
    "data = df.filter(['Close'])"
   ]
  },
  {
   "cell_type": "code",
   "execution_count": 4,
   "id": "dc7abb59",
   "metadata": {},
   "outputs": [],
   "source": [
    "# normalize data\n",
    "scaler = MinMaxScaler(feature_range=(0, 1))\n",
    "scaled_data_array = scaler.fit_transform(data) # numpy array"
   ]
  },
  {
   "cell_type": "code",
   "execution_count": 5,
   "id": "38662ed5",
   "metadata": {
    "scrolled": true
   },
   "outputs": [],
   "source": [
    "# create DataFrame from scaled array\n",
    "scaled_data = pd.DataFrame()\n",
    "scaled_data['Close'] = pd.DataFrame(scaled_data_array)"
   ]
  },
  {
   "cell_type": "code",
   "execution_count": 6,
   "id": "0fd83d4d",
   "metadata": {
    "scrolled": true
   },
   "outputs": [
    {
     "name": "stdout",
     "output_type": "stream",
     "text": [
      "1136\n"
     ]
    }
   ],
   "source": [
    "# use 75% of data to train the model\n",
    "train_data_size = int(len(data) * 0.75)\n",
    "print(train_data_size)"
   ]
  },
  {
   "cell_type": "code",
   "execution_count": 7,
   "id": "fe20f50c",
   "metadata": {},
   "outputs": [],
   "source": [
    "# partition data into train and test data\n",
    "train_data = scaled_data[0:train_data_size]\n",
    "test_data = scaled_data[train_data_size:]"
   ]
  },
  {
   "cell_type": "code",
   "execution_count": 8,
   "id": "65f11804",
   "metadata": {},
   "outputs": [
    {
     "data": {
      "text/plain": [
       "(1136, 1)"
      ]
     },
     "execution_count": 8,
     "metadata": {},
     "output_type": "execute_result"
    }
   ],
   "source": [
    "train_data_array = np.array(train_data)\n",
    "train_data_array.shape"
   ]
  },
  {
   "cell_type": "markdown",
   "id": "ef59cca3",
   "metadata": {},
   "source": [
    "Split training data into inputs and targets"
   ]
  },
  {
   "cell_type": "code",
   "execution_count": 9,
   "id": "99bc088a",
   "metadata": {
    "scrolled": true
   },
   "outputs": [],
   "source": [
    "trail = 90 # number of days used to make prediction\n",
    "x_train, y_train = [], []\n",
    "for i in range(trail, train_data_array.shape[0]):\n",
    "    x_train.append(train_data_array[i-trail:i])  # input will be closing prices from last 90 days\n",
    "    y_train.append(train_data_array[i,0])       # target will be closing price one day after"
   ]
  },
  {
   "cell_type": "code",
   "execution_count": 10,
   "id": "12ed134f",
   "metadata": {},
   "outputs": [],
   "source": [
    "# convert to numpy arrays\n",
    "x_train, y_train = np.array(x_train), np.array(y_train)"
   ]
  },
  {
   "cell_type": "code",
   "execution_count": 11,
   "id": "e96065ad",
   "metadata": {
    "scrolled": true
   },
   "outputs": [
    {
     "data": {
      "text/plain": [
       "((1046, 90, 1), (1046,))"
      ]
     },
     "execution_count": 11,
     "metadata": {},
     "output_type": "execute_result"
    }
   ],
   "source": [
    "x_train.shape, y_train.shape"
   ]
  },
  {
   "cell_type": "markdown",
   "id": "79b0f9a3",
   "metadata": {},
   "source": [
    "Note that x_train and y_train have the closing prices up to 90 days before test_data begins"
   ]
  },
  {
   "cell_type": "code",
   "execution_count": 12,
   "id": "0a352432",
   "metadata": {
    "scrolled": false
   },
   "outputs": [
    {
     "data": {
      "text/plain": [
       "(1136, 1046)"
      ]
     },
     "execution_count": 12,
     "metadata": {},
     "output_type": "execute_result"
    }
   ],
   "source": [
    "train_data.shape[0], train_data.shape[0] - trail"
   ]
  },
  {
   "cell_type": "code",
   "execution_count": 13,
   "id": "dfb10c88",
   "metadata": {
    "scrolled": true
   },
   "outputs": [
    {
     "name": "stdout",
     "output_type": "stream",
     "text": [
      "Metal device set to: Apple M1\n"
     ]
    },
    {
     "name": "stderr",
     "output_type": "stream",
     "text": [
      "2022-01-01 01:59:50.935275: I tensorflow/core/common_runtime/pluggable_device/pluggable_device_factory.cc:305] Could not identify NUMA node of platform GPU ID 0, defaulting to 0. Your kernel may not have been built with NUMA support.\n",
      "2022-01-01 01:59:50.935372: I tensorflow/core/common_runtime/pluggable_device/pluggable_device_factory.cc:271] Created TensorFlow device (/job:localhost/replica:0/task:0/device:GPU:0 with 0 MB memory) -> physical PluggableDevice (device: 0, name: METAL, pci bus id: <undefined>)\n"
     ]
    }
   ],
   "source": [
    "# build model\n",
    "model = Sequential()\n",
    "model.add(LSTM(units=50, return_sequences=True, input_shape=(x_train.shape[1], 1)))\n",
    "model.add(Dropout(0.2))\n",
    "model.add(LSTM(units=100, return_sequences=False))\n",
    "Dropout(1)\n",
    "# model.add(Dropout(0.4))\n",
    "# model.add(LSTM(units=70, return_sequences=True))\n",
    "# model.add(Dropout(0.4))\n",
    "# model.add(LSTM(units=100, return_sequences=False))\n",
    "# model.add(Dropout(0.5))\n",
    "model.add(Dense(units=1))"
   ]
  },
  {
   "cell_type": "code",
   "execution_count": 14,
   "id": "4d569706",
   "metadata": {
    "scrolled": true
   },
   "outputs": [
    {
     "name": "stderr",
     "output_type": "stream",
     "text": [
      "2022-01-01 01:59:51.130599: W tensorflow/core/platform/profile_utils/cpu_utils.cc:128] Failed to get CPU frequency: 0 Hz\n"
     ]
    },
    {
     "name": "stdout",
     "output_type": "stream",
     "text": [
      "Epoch 1/5\n"
     ]
    },
    {
     "name": "stderr",
     "output_type": "stream",
     "text": [
      "2022-01-01 01:59:51.777315: I tensorflow/core/grappler/optimizers/custom_graph_optimizer_registry.cc:112] Plugin optimizer for device_type GPU is enabled.\n",
      "2022-01-01 01:59:51.969250: I tensorflow/core/grappler/optimizers/custom_graph_optimizer_registry.cc:112] Plugin optimizer for device_type GPU is enabled.\n",
      "2022-01-01 01:59:52.102461: I tensorflow/core/grappler/optimizers/custom_graph_optimizer_registry.cc:112] Plugin optimizer for device_type GPU is enabled.\n",
      "2022-01-01 01:59:52.251139: I tensorflow/core/grappler/optimizers/custom_graph_optimizer_registry.cc:112] Plugin optimizer for device_type GPU is enabled.\n",
      "2022-01-01 01:59:52.507041: I tensorflow/core/grappler/optimizers/custom_graph_optimizer_registry.cc:112] Plugin optimizer for device_type GPU is enabled.\n"
     ]
    },
    {
     "name": "stdout",
     "output_type": "stream",
     "text": [
      "33/33 [==============================] - 4s 64ms/step - loss: 0.0013\n",
      "Epoch 2/5\n",
      "33/33 [==============================] - 2s 48ms/step - loss: 1.2052e-04\n",
      "Epoch 3/5\n",
      "33/33 [==============================] - 2s 48ms/step - loss: 9.8242e-05\n",
      "Epoch 4/5\n",
      "33/33 [==============================] - 2s 49ms/step - loss: 9.9889e-05\n",
      "Epoch 5/5\n",
      "33/33 [==============================] - 2s 49ms/step - loss: 9.3276e-05\n"
     ]
    },
    {
     "data": {
      "text/plain": [
       "<keras.callbacks.History at 0x15b6b4b80>"
      ]
     },
     "execution_count": 14,
     "metadata": {},
     "output_type": "execute_result"
    }
   ],
   "source": [
    "# train the model\n",
    "model.compile(loss='mean_squared_error', optimizer='adam')\n",
    "model.fit(x_train, y_train, epochs=5)"
   ]
  },
  {
   "cell_type": "markdown",
   "id": "375ed569",
   "metadata": {},
   "source": [
    "# Organize test data"
   ]
  },
  {
   "cell_type": "markdown",
   "id": "e741c6e4",
   "metadata": {},
   "source": [
    "Due to the 90 day gap, test_data must include the following"
   ]
  },
  {
   "cell_type": "code",
   "execution_count": 15,
   "id": "769c404e",
   "metadata": {},
   "outputs": [
    {
     "data": {
      "text/html": [
       "<div>\n",
       "<style scoped>\n",
       "    .dataframe tbody tr th:only-of-type {\n",
       "        vertical-align: middle;\n",
       "    }\n",
       "\n",
       "    .dataframe tbody tr th {\n",
       "        vertical-align: top;\n",
       "    }\n",
       "\n",
       "    .dataframe thead th {\n",
       "        text-align: right;\n",
       "    }\n",
       "</style>\n",
       "<table border=\"1\" class=\"dataframe\">\n",
       "  <thead>\n",
       "    <tr style=\"text-align: right;\">\n",
       "      <th></th>\n",
       "      <th>Close</th>\n",
       "    </tr>\n",
       "  </thead>\n",
       "  <tbody>\n",
       "    <tr>\n",
       "      <th>1046</th>\n",
       "      <td>0.119719</td>\n",
       "    </tr>\n",
       "    <tr>\n",
       "      <th>1047</th>\n",
       "      <td>0.112319</td>\n",
       "    </tr>\n",
       "    <tr>\n",
       "      <th>1048</th>\n",
       "      <td>0.113504</td>\n",
       "    </tr>\n",
       "    <tr>\n",
       "      <th>1049</th>\n",
       "      <td>0.108960</td>\n",
       "    </tr>\n",
       "    <tr>\n",
       "      <th>1050</th>\n",
       "      <td>0.116948</td>\n",
       "    </tr>\n",
       "    <tr>\n",
       "      <th>...</th>\n",
       "      <td>...</td>\n",
       "    </tr>\n",
       "    <tr>\n",
       "      <th>1131</th>\n",
       "      <td>0.248871</td>\n",
       "    </tr>\n",
       "    <tr>\n",
       "      <th>1132</th>\n",
       "      <td>0.251520</td>\n",
       "    </tr>\n",
       "    <tr>\n",
       "      <th>1133</th>\n",
       "      <td>0.280955</td>\n",
       "    </tr>\n",
       "    <tr>\n",
       "      <th>1134</th>\n",
       "      <td>0.304187</td>\n",
       "    </tr>\n",
       "    <tr>\n",
       "      <th>1135</th>\n",
       "      <td>0.309361</td>\n",
       "    </tr>\n",
       "  </tbody>\n",
       "</table>\n",
       "<p>90 rows × 1 columns</p>\n",
       "</div>"
      ],
      "text/plain": [
       "         Close\n",
       "1046  0.119719\n",
       "1047  0.112319\n",
       "1048  0.113504\n",
       "1049  0.108960\n",
       "1050  0.116948\n",
       "...        ...\n",
       "1131  0.248871\n",
       "1132  0.251520\n",
       "1133  0.280955\n",
       "1134  0.304187\n",
       "1135  0.309361\n",
       "\n",
       "[90 rows x 1 columns]"
      ]
     },
     "execution_count": 15,
     "metadata": {},
     "output_type": "execute_result"
    }
   ],
   "source": [
    "train_data.tail(trail) # recall trail = 90"
   ]
  },
  {
   "cell_type": "markdown",
   "id": "220423de",
   "metadata": {},
   "source": [
    "Adjust test_data accordingly"
   ]
  },
  {
   "cell_type": "code",
   "execution_count": 16,
   "id": "39bd632a",
   "metadata": {},
   "outputs": [],
   "source": [
    "test_data_adj = train_data.tail(trail).append(test_data)"
   ]
  },
  {
   "cell_type": "code",
   "execution_count": 17,
   "id": "36868478",
   "metadata": {},
   "outputs": [],
   "source": [
    "# prepare array of test_data to make inputs and targets\n",
    "test_data_array = np.array(test_data_adj)"
   ]
  },
  {
   "cell_type": "code",
   "execution_count": 18,
   "id": "b977df2e",
   "metadata": {},
   "outputs": [],
   "source": [
    "x_test, y_test = [], []\n",
    "for i in range(trail, test_data_array.shape[0]):\n",
    "    x_test.append(test_data_array[i-trail:i])\n",
    "    y_test.append(test_data_array[i])"
   ]
  },
  {
   "cell_type": "code",
   "execution_count": 19,
   "id": "3fc5dcb0",
   "metadata": {
    "scrolled": true
   },
   "outputs": [
    {
     "data": {
      "text/plain": [
       "(379, 379, (379, 1), 379)"
      ]
     },
     "execution_count": 19,
     "metadata": {},
     "output_type": "execute_result"
    }
   ],
   "source": [
    "# verify\n",
    "len(x_test), len(y_test), test_data.shape, test_data.shape[0]"
   ]
  },
  {
   "cell_type": "code",
   "execution_count": 20,
   "id": "2209869a",
   "metadata": {},
   "outputs": [],
   "source": [
    "# prepare inputs and targets to be read\n",
    "x_test, y_test = np.array(x_test), np.array(y_test)"
   ]
  },
  {
   "cell_type": "code",
   "execution_count": 21,
   "id": "20666fed",
   "metadata": {},
   "outputs": [
    {
     "data": {
      "text/plain": [
       "((379, 90, 1), (379, 1))"
      ]
     },
     "execution_count": 21,
     "metadata": {},
     "output_type": "execute_result"
    }
   ],
   "source": [
    "# verify dims\n",
    "x_test.shape, y_test.shape"
   ]
  },
  {
   "cell_type": "code",
   "execution_count": 22,
   "id": "447833de",
   "metadata": {},
   "outputs": [
    {
     "name": "stderr",
     "output_type": "stream",
     "text": [
      "2022-01-01 02:00:01.330128: I tensorflow/core/grappler/optimizers/custom_graph_optimizer_registry.cc:112] Plugin optimizer for device_type GPU is enabled.\n",
      "2022-01-01 02:00:01.394101: I tensorflow/core/grappler/optimizers/custom_graph_optimizer_registry.cc:112] Plugin optimizer for device_type GPU is enabled.\n",
      "2022-01-01 02:00:01.508882: I tensorflow/core/grappler/optimizers/custom_graph_optimizer_registry.cc:112] Plugin optimizer for device_type GPU is enabled.\n"
     ]
    }
   ],
   "source": [
    "scaled_predictions = model.predict(x_test) \n",
    "# scaled_predictions"
   ]
  },
  {
   "cell_type": "code",
   "execution_count": 23,
   "id": "2d803379",
   "metadata": {},
   "outputs": [],
   "source": [
    "predictions = scaler.inverse_transform(scaled_predictions)\n",
    "# predictions"
   ]
  },
  {
   "cell_type": "code",
   "execution_count": 24,
   "id": "c7cda227",
   "metadata": {
    "scrolled": false
   },
   "outputs": [
    {
     "data": {
      "text/plain": [
       "0.015163523150033602"
      ]
     },
     "execution_count": 24,
     "metadata": {},
     "output_type": "execute_result"
    }
   ],
   "source": [
    "# compute error\n",
    "rmse = np.sqrt(np.mean(scaled_predictions - y_test)**2) # root mean squared error\n",
    "rmse"
   ]
  },
  {
   "cell_type": "markdown",
   "id": "7cf5235d",
   "metadata": {},
   "source": [
    "# Prepare data to be plotted"
   ]
  },
  {
   "cell_type": "code",
   "execution_count": 25,
   "id": "8014c295",
   "metadata": {},
   "outputs": [
    {
     "data": {
      "text/plain": [
       "379"
      ]
     },
     "execution_count": 25,
     "metadata": {},
     "output_type": "execute_result"
    }
   ],
   "source": [
    "train = data[:train_data_size]\n",
    "test = data[train_data_size:] # should have same length as predictions \n",
    "len(test)"
   ]
  },
  {
   "cell_type": "code",
   "execution_count": 26,
   "id": "e46834da",
   "metadata": {
    "scrolled": true
   },
   "outputs": [],
   "source": [
    "# test"
   ]
  },
  {
   "cell_type": "code",
   "execution_count": 27,
   "id": "6553d872",
   "metadata": {},
   "outputs": [
    {
     "data": {
      "text/html": [
       "<div>\n",
       "<style scoped>\n",
       "    .dataframe tbody tr th:only-of-type {\n",
       "        vertical-align: middle;\n",
       "    }\n",
       "\n",
       "    .dataframe tbody tr th {\n",
       "        vertical-align: top;\n",
       "    }\n",
       "\n",
       "    .dataframe thead th {\n",
       "        text-align: right;\n",
       "    }\n",
       "</style>\n",
       "<table border=\"1\" class=\"dataframe\">\n",
       "  <thead>\n",
       "    <tr style=\"text-align: right;\">\n",
       "      <th></th>\n",
       "      <th>Close</th>\n",
       "      <th>Predictions</th>\n",
       "    </tr>\n",
       "    <tr>\n",
       "      <th>Date</th>\n",
       "      <th></th>\n",
       "      <th></th>\n",
       "    </tr>\n",
       "  </thead>\n",
       "  <tbody>\n",
       "    <tr>\n",
       "      <th>2020-12-19</th>\n",
       "      <td>23869.832031</td>\n",
       "      <td>20921.302734</td>\n",
       "    </tr>\n",
       "    <tr>\n",
       "      <th>2020-12-20</th>\n",
       "      <td>23477.294922</td>\n",
       "      <td>21709.667969</td>\n",
       "    </tr>\n",
       "    <tr>\n",
       "      <th>2020-12-21</th>\n",
       "      <td>22803.082031</td>\n",
       "      <td>22350.767578</td>\n",
       "    </tr>\n",
       "    <tr>\n",
       "      <th>2020-12-22</th>\n",
       "      <td>23783.029297</td>\n",
       "      <td>22737.179688</td>\n",
       "    </tr>\n",
       "    <tr>\n",
       "      <th>2020-12-23</th>\n",
       "      <td>23241.345703</td>\n",
       "      <td>23085.341797</td>\n",
       "    </tr>\n",
       "    <tr>\n",
       "      <th>...</th>\n",
       "      <td>...</td>\n",
       "      <td>...</td>\n",
       "    </tr>\n",
       "    <tr>\n",
       "      <th>2021-12-28</th>\n",
       "      <td>47588.855469</td>\n",
       "      <td>51551.230469</td>\n",
       "    </tr>\n",
       "    <tr>\n",
       "      <th>2021-12-29</th>\n",
       "      <td>46444.710938</td>\n",
       "      <td>51409.699219</td>\n",
       "    </tr>\n",
       "    <tr>\n",
       "      <th>2021-12-30</th>\n",
       "      <td>47178.125000</td>\n",
       "      <td>50878.554688</td>\n",
       "    </tr>\n",
       "    <tr>\n",
       "      <th>2021-12-31</th>\n",
       "      <td>46306.445312</td>\n",
       "      <td>50324.937500</td>\n",
       "    </tr>\n",
       "    <tr>\n",
       "      <th>2022-01-01</th>\n",
       "      <td>47073.226562</td>\n",
       "      <td>49756.199219</td>\n",
       "    </tr>\n",
       "  </tbody>\n",
       "</table>\n",
       "<p>379 rows × 2 columns</p>\n",
       "</div>"
      ],
      "text/plain": [
       "                   Close   Predictions\n",
       "Date                                  \n",
       "2020-12-19  23869.832031  20921.302734\n",
       "2020-12-20  23477.294922  21709.667969\n",
       "2020-12-21  22803.082031  22350.767578\n",
       "2020-12-22  23783.029297  22737.179688\n",
       "2020-12-23  23241.345703  23085.341797\n",
       "...                  ...           ...\n",
       "2021-12-28  47588.855469  51551.230469\n",
       "2021-12-29  46444.710938  51409.699219\n",
       "2021-12-30  47178.125000  50878.554688\n",
       "2021-12-31  46306.445312  50324.937500\n",
       "2022-01-01  47073.226562  49756.199219\n",
       "\n",
       "[379 rows x 2 columns]"
      ]
     },
     "execution_count": 27,
     "metadata": {},
     "output_type": "execute_result"
    }
   ],
   "source": [
    "test.insert(loc=1, column='Predictions', value=predictions)\n",
    "test"
   ]
  },
  {
   "cell_type": "code",
   "execution_count": 28,
   "id": "c96687fe",
   "metadata": {
    "scrolled": true
   },
   "outputs": [
    {
     "data": {
      "image/png": "[encoded data removed]",
      "text/plain": [
       "<Figure size 1008x504 with 1 Axes>"
      ]
     },
     "metadata": {
      "needs_background": "light"
     },
     "output_type": "display_data"
    }
   ],
   "source": [
    "plt.figure(figsize=(14, 7))\n",
    "plt.title('Model')\n",
    "plt.xlabel('Date')\n",
    "plt.ylabel('Price (USD $)')\n",
    "plt.plot(test[['Close', 'Predictions']])\n",
    "plt.legend(['Close', 'Predictions'], loc=\"upper left\")\n",
    "plt.show()"
   ]
  },
  {
   "cell_type": "code",
   "execution_count": null,
   "id": "ac5e8d6c",
   "metadata": {},
   "outputs": [],
   "source": []
  },
  {
   "cell_type": "code",
   "execution_count": null,
   "id": "cb7451db",
   "metadata": {},
   "outputs": [],
   "source": []
  }
 ],
 "metadata": {
  "kernelspec": {
   "display_name": "Python 3 (ipykernel)",
   "language": "python",
   "name": "python3"
  },
  "language_info": {
   "codemirror_mode": {
    "name": "ipython",
    "version": 3
   },
   "file_extension": ".py",
   "mimetype": "text/x-python",
   "name": "python",
   "nbconvert_exporter": "python",
   "pygments_lexer": "ipython3",
   "version": "3.9.7"
  }
 },
 "nbformat": 4,
 "nbformat_minor": 5
}
